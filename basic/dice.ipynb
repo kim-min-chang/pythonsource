{
 "cells": [
  {
   "cell_type": "markdown",
   "metadata": {},
   "source": [
    "### 딕셔너리 자료형\n",
    "    - 자바의 map 과 같은 개념\n",
    "    - key,value\n",
    "    - {}사용"
   ]
  },
  {
   "cell_type": "code",
   "execution_count": null,
   "metadata": {},
   "outputs": [],
   "source": [
    "# 생성\n",
    "\n",
    "dict1 = {}\n",
    "dict2 = dict()"
   ]
  }
 ],
 "metadata": {
  "language_info": {
   "name": "python"
  }
 },
 "nbformat": 4,
 "nbformat_minor": 2
}
