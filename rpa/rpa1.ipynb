{
 "cells": [
  {
   "cell_type": "markdown",
   "metadata": {},
   "source": [
    "### RPA(Robotic Process Automation)\n",
    "# ex) 엑셀자동화 프로그램\n",
    "# 엑셀 pip install openpyxl\n",
    "# 이미지 pip install pillow"
   ]
  },
  {
   "cell_type": "code",
   "execution_count": 7,
   "metadata": {},
   "outputs": [],
   "source": [
    "# 엑셀 생성\n",
    "from openpyxl import Workbook\n",
    "\n",
    "#객체 생성\n",
    "wb = Workbook()\n",
    "#현재 활성화된 시트 가져오기\n",
    "ws = wb.active\n",
    "ws.title = \"Sheet1\"\n",
    "\n",
    "#새로운 시트 생성\n",
    "ws1 = wb.create_sheet(title=\"Mysheet\")\n",
    "ws1[\"A1\"] =\"Test\"\n",
    "ws2 = wb.create_sheet(title=\"급여명세\",index=2)\n",
    "\n",
    "ws3 = wb.copy_worksheet(ws1)\n",
    "ws3.title = \"Copied Sheet\"\n",
    "\n",
    "wb.save(\"./sample1.xlsx\")\n",
    "wb.close()"
   ]
  },
  {
   "cell_type": "code",
   "execution_count": 12,
   "metadata": {},
   "outputs": [
    {
     "name": "stdout",
     "output_type": "stream",
     "text": [
      "3\n",
      "1\n",
      "4\n"
     ]
    }
   ],
   "source": [
    "#객체 생성\n",
    "wb = Workbook()\n",
    "#현재 활성화된 시트 가져오기\n",
    "ws = wb.active\n",
    "\n",
    "# 셀에 데이터 입력\n",
    "# A1 = 1, A2=2, A3=3, B1=4,B2=5,B3=6\n",
    "ws[\"A1\"] = 1\n",
    "ws[\"A2\"] = 2\n",
    "ws[\"A3\"] = 3\n",
    "ws[\"B1\"] = 4\n",
    "ws[\"B2\"] = 5\n",
    "ws[\"B3\"] = 6\n",
    "ws.cell(1,3,10) #ws[\"C1\"] = 10\n",
    "\n",
    "# 셀 내용 출력\n",
    "print(ws[\"A3\"].value)\n",
    "print(ws.cell(1,1).value)\n",
    "print(ws.cell(1,2).value)\n",
    "\n",
    "wb.save(\"./sample1.xlsx\")\n",
    "wb.close()"
   ]
  },
  {
   "cell_type": "code",
   "execution_count": 13,
   "metadata": {},
   "outputs": [],
   "source": [
    "import random\n",
    "#객체 생성\n",
    "wb = Workbook()\n",
    "#현재 활성화된 시트 가져오기\n",
    "ws = wb.active\n",
    "\n",
    "for x in range(1,11):\n",
    "    for y in range(1,11):\n",
    "        ws.cell(x,y,random.randint(0,100))\n",
    "\n",
    "wb.save(\"./sample2.xlsx\")\n",
    "wb.close()"
   ]
  },
  {
   "cell_type": "code",
   "execution_count": 14,
   "metadata": {},
   "outputs": [
    {
     "name": "stdout",
     "output_type": "stream",
     "text": [
      "17 30 62 17 14 15 44 84 100 100 \n",
      "35 22 22 70 66 12 33 61 90 92 \n",
      "90 33 26 48 69 73 64 78 34 54 \n",
      "3 84 70 70 66 74 46 77 34 66 \n",
      "83 90 77 17 78 35 83 62 44 72 \n",
      "52 4 44 76 79 7 27 84 9 54 \n",
      "11 36 92 59 62 75 7 55 29 67 \n",
      "81 59 24 78 59 16 7 2 24 27 \n",
      "51 10 93 57 37 51 37 32 71 46 \n",
      "74 77 79 21 48 1 20 72 92 41 \n"
     ]
    }
   ],
   "source": [
    "from openpyxl import load_workbook\n",
    "\n",
    "wb= load_workbook(\"./sample2.xlsx\")\n",
    "ws= wb.active\n",
    "\n",
    "# 셀 내용 가져오기\n",
    "for x in range(1,11):\n",
    "    for y in range(1,11):\n",
    "        print(ws.cell(x,y).value,end=\" \")\n",
    "    print()\n",
    "\n",
    "wb.close()\n"
   ]
  },
  {
   "cell_type": "code",
   "execution_count": null,
   "metadata": {},
   "outputs": [
    {
     "name": "stdout",
     "output_type": "stream",
     "text": [
      "영어\n",
      "59\n",
      "67\n",
      "82\n",
      "67\n",
      "22\n",
      "53\n",
      "81\n",
      "100\n",
      "85\n",
      "10\n"
     ]
    }
   ],
   "source": [
    "from openpyxl import load_workbook, Workbook\n",
    "import random\n",
    "\n",
    "wb= Workbook()\n",
    "ws= wb.active\n",
    "\n",
    "# 셀 내용 삽입(행 단위로)\n",
    "ws.append([\"번호\",\"영어\",\"수학\"])\n",
    "for x in range(1,11):\n",
    "    ws.append([x,random.randint(1,100), random.randint(1,100)])\n",
    "\n",
    "# 영어 컬럼 조회\n",
    "# print(ws[\"B\"])\n",
    "# for cell in ws[\"B\"]:\n",
    "#     print(cell.value)\n",
    "\n",
    "wb.save(\"./range.xlsx\")\n",
    "wb.close()"
   ]
  },
  {
   "cell_type": "code",
   "execution_count": 23,
   "metadata": {},
   "outputs": [
    {
     "name": "stdout",
     "output_type": "stream",
     "text": [
      "수학\n",
      "53\n",
      "7\n",
      "47\n",
      "69\n",
      "1\n",
      "31\n",
      "2\n",
      "53\n",
      "24\n",
      "30\n",
      "2\n",
      "67\n",
      "7\n"
     ]
    }
   ],
   "source": [
    "wb = load_workbook(\"./range.xlsx\")\n",
    "ws = wb.active\n",
    "\n",
    "# 영어 컬럼 조회\n",
    "# print(ws[\"B\"])\n",
    "# for cell in ws[\"B\"]:\n",
    "#     print(cell.value)\n",
    "\n",
    "# 영어, 수학 컬럼 조회\n",
    "# cols = ws[\"B:C\"]\n",
    "# for col in cols:\n",
    "#     for cell in col:\n",
    "#         print(cell.value, end=\" \")\n",
    "#     print()\n",
    "\n",
    "# 1행 조회\n",
    "\n",
    "# rows= ws[1]\n",
    "# for cell in rows:\n",
    "#     print(cell.value)\n",
    "\n",
    "# 2~6행 조회\n",
    "# rows = ws[2:6]\n",
    "# for row in rows:\n",
    "#     for cell in row:\n",
    "#         print(cell.value,end=\" \")\n",
    "#     print() \n",
    " \n",
    "# max_row : 마지막행\n",
    "# max_column : 마지막 열\n",
    "# rows = ws[2:ws.max_row]\n",
    "# for row in rows:\n",
    "#     for cell in row:\n",
    "#         print(cell.value,end=\" \")\n",
    "#     print() \n",
    "\n",
    "# 전체 rows 가져오기\n",
    "for row in ws.iter_rows():\n",
    "    print(row[2].value)\n",
    "\n",
    "for col in ws.iter_cols():\n",
    "    if int(row[1].value) >80:   \n",
    "        print(f\"{row[0].value} 번 학생 영어 점수 : {row[1].value}\")\n",
    "\n",
    "wb.close()"
   ]
  },
  {
   "cell_type": "code",
   "execution_count": 27,
   "metadata": {},
   "outputs": [],
   "source": [
    "wb= load_workbook(\"./range.xlsx\")\n",
    "ws= wb.active\n",
    "\n",
    "# 행, 열 삽입\n",
    "# ws.insert_rows(8)\n",
    "ws.insert_rows(8,5)\n",
    "ws.insert_cols(2,3)\n",
    "\n",
    "wb.save(\"./range_insert.xlsx\")\n",
    "wb.close()"
   ]
  },
  {
   "cell_type": "code",
   "execution_count": 30,
   "metadata": {},
   "outputs": [],
   "source": [
    "wb= load_workbook(\"./range.xlsx\")\n",
    "ws= wb.active\n",
    "\n",
    "# 행, 열 삭제\n",
    "ws.delete_rows(8)\n",
    "ws.delete_cols(1,2)\n",
    "\n",
    "wb.save(\"./range_insert.xlsx\")\n",
    "wb.close()"
   ]
  },
  {
   "cell_type": "code",
   "execution_count": 29,
   "metadata": {},
   "outputs": [],
   "source": [
    "wb= load_workbook(\"./range.xlsx\")\n",
    "ws= wb.active\n",
    "\n",
    "# 셀 이동\n",
    "ws.move_range(\"B1:C11\",rows=0,cols=1)\n",
    "ws.cell(row=1,column=2).value=\"국어\"\n",
    "\n",
    "wb.save(\"./range_move.xlsx\")\n",
    "wb.close()"
   ]
  },
  {
   "cell_type": "code",
   "execution_count": 33,
   "metadata": {},
   "outputs": [],
   "source": [
    "from openpyxl.chart import BarChart, Reference,LineChart\n",
    "\n",
    "wb= load_workbook(\"./range.xlsx\")\n",
    "ws= wb.active\n",
    "\n",
    "# bar_chart = BarChart()\n",
    "# bar_value = Reference(ws,min_row=2, max_row=11,min_col=2,max_col=3)\n",
    "# bar_chart.add_data(bar_value)\n",
    "# ws.add_chart(bar_chart,\"E1\")\n",
    "\n",
    "line_chart = LineChart()\n",
    "line_value = Reference(ws,min_row=2, max_row=11,min_col=2,max_col=3)\n",
    "line_chart.add_data(line_value)\n",
    "# 차트 상세 설정\n",
    "line_chart.title =\"성적표\"\n",
    "line_chart.style = 20\n",
    "line_chart.y_axis.title = \"점수\"\n",
    "line_chart.x_axis.title = \"번호\"\n",
    "ws.add_chart(line_chart,\"E1\")\n",
    "\n",
    "\n",
    "\n",
    "wb.save(\"./range_chart.xlsx\")\n",
    "wb.close()"
   ]
  },
  {
   "cell_type": "code",
   "execution_count": null,
   "metadata": {},
   "outputs": [],
   "source": []
  }
 ],
 "metadata": {
  "kernelspec": {
   "display_name": "venv",
   "language": "python",
   "name": "python3"
  },
  "language_info": {
   "codemirror_mode": {
    "name": "ipython",
    "version": 3
   },
   "file_extension": ".py",
   "mimetype": "text/x-python",
   "name": "python",
   "nbconvert_exporter": "python",
   "pygments_lexer": "ipython3",
   "version": "3.13.1"
  }
 },
 "nbformat": 4,
 "nbformat_minor": 2
}
