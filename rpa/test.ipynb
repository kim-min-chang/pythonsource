{
 "cells": [
  {
   "cell_type": "code",
   "execution_count": 17,
   "metadata": {},
   "outputs": [
    {
     "name": "stdout",
     "output_type": "stream",
     "text": [
      "{\"response\":{\"body\":{\"dataType\":\"JSON\",\"items\":{\"item\":[{\"content_ty\":null,\"country_eng_nm\":\"Ghana\",\"country_iso_alp2\":\"GH\",\"country_nm\":\"가나\",\"download_url\":\"https://opendata.mofa.go.kr:8444/fileDownload/images/country_images/flags/15/20220318_161935687.gif\",\"origin_file_nm\":\"20220318_161935383.gif\"},{\"content_ty\":\"image/png\",\"country_eng_nm\":\"Gabon\",\"country_iso_alp2\":\"GA\",\"country_nm\":\"가봉\",\"download_url\":\"https://opendata.mofa.go.kr:8444/fileDownload/images/country_images/flags/16/20241008_140438527.png\",\"origin_file_nm\":\"20241008_140438527.png\"},{\"content_ty\":null,\"country_eng_nm\":\"Guyana\",\"country_iso_alp2\":\"GY\",\"country_nm\":\"가이아나\",\"download_url\":\"https://opendata.mofa.go.kr:8444/fileDownload/images/country_images/flags/17/20220318_162257006.gif\",\"origin_file_nm\":\"20220318_162256699.gif\"},{\"content_ty\":\"image/png\",\"country_eng_nm\":\"Gambia\",\"country_iso_alp2\":\"GM\",\"country_nm\":\"감비아\",\"download_url\":\"https://opendata.mofa.go.kr:8444/fileDownload/images/country_images/flags/18/20241008_151214282.png\",\"origin_file_nm\":\"20241008_151214282.png\"},{\"content_ty\":null,\"country_eng_nm\":\"Bailiwick of Guernsey\",\"country_iso_alp2\":\"GG\",\"country_nm\":\"건지\",\"download_url\":\"https://opendata.mofa.go.kr:8444/fileDownload/images/country_images/flags/19/20220224_233512925.gif\",\"origin_file_nm\":\"20201125_211201665.gif\"},{\"content_ty\":null,\"country_eng_nm\":\"Guatemala\",\"country_iso_alp2\":\"GT\",\"country_nm\":\"과테말라\",\"download_url\":\"https://opendata.mofa.go.kr:8444/fileDownload/images/country_images/flags/21/20220318_162216873.gif\",\"origin_file_nm\":\"20220318_162216570.gif\"},{\"content_ty\":null,\"country_eng_nm\":\"Vatican\",\"country_iso_alp2\":\"VA\",\"country_nm\":\"교황청\",\"download_url\":\"https://opendata.mofa.go.kr:8444/fileDownload/images/country_images/flags/86/20220318_170654560.gif\",\"origin_file_nm\":\"20220318_170654172.gif\"},{\"content_ty\":null,\"country_eng_nm\":\"Grenada\",\"country_iso_alp2\":\"GD\",\"country_nm\":\"그레나다\",\"download_url\":\"https://opendata.mofa.go.kr:8444/fileDownload/images/country_images/flags/23/20220318_161743288.gif\",\"origin_file_nm\":\"20220318_161742970.gif\"},{\"content_ty\":null,\"country_eng_nm\":\"Greece\",\"country_iso_alp2\":\"GR\",\"country_nm\":\"그리스\",\"download_url\":\"https://opendata.mofa.go.kr:8444/fileDownload/images/country_images/flags/24/20220720_160223089.gif\",\"origin_file_nm\":\"20220720_160222647.gif\"},{\"content_ty\":null,\"country_eng_nm\":\"Greenland\",\"country_iso_alp2\":\"GL\",\"country_nm\":\"그린란드\",\"download_url\":\"https://opendata.mofa.go.kr:8444/fileDownload/images/country_images/flags/25/20220224_233512915.gif\",\"origin_file_nm\":\"20201125_211415903.gif\"}]},\"numOfRows\":10,\"pageNo\":1,\"totalCount\":220},\"header\":{\"resultCode\":\"0\",\"resultMsg\":\"정상\"}}}\n",
      "\n"
     ]
    }
   ],
   "source": [
    "import requests\n",
    "\n",
    "url = 'http://apis.data.go.kr/1262000/CountryFlagService2/getCountryFlagList2'\n",
    "params ={'serviceKey' : 'wWi69QnhYJBB1qlSzE/bVrjRtCbKYFW+mvAxcOfWWEJ7sH2MxmUoZjkn+cLgLQVcnaERo0h4pQoL3l6OA1spLA==',\n",
    " 'numOfRows' : '10',\n",
    " 'pageNo' : '1' }\n",
    "\n",
    "response = requests.get(url, params=params)\n",
    "print(response.text)"
   ]
  },
  {
   "cell_type": "code",
   "execution_count": null,
   "metadata": {},
   "outputs": [],
   "source": []
  }
 ],
 "metadata": {
  "kernelspec": {
   "display_name": "venv",
   "language": "python",
   "name": "python3"
  },
  "language_info": {
   "codemirror_mode": {
    "name": "ipython",
    "version": 3
   },
   "file_extension": ".py",
   "mimetype": "text/x-python",
   "name": "python",
   "nbconvert_exporter": "python",
   "pygments_lexer": "ipython3",
   "version": "3.13.1"
  }
 },
 "nbformat": 4,
 "nbformat_minor": 2
}
